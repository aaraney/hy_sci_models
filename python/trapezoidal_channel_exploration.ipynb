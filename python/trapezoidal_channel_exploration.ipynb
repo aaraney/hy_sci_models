{
 "cells": [
  {
   "cell_type": "code",
   "execution_count": 22,
   "metadata": {},
   "outputs": [],
   "source": [
    "import pandas as pd\n",
    "import numpy as np\n",
    "import geopandas as gpd\n",
    "import matplotlib.pyplot as plt\n",
    "import seaborn as sns"
   ]
  },
  {
   "cell_type": "code",
   "execution_count": 8,
   "metadata": {},
   "outputs": [],
   "source": [
    "# Conversions. 1:\n",
    "FEET_TO_METERS = 0.3048\n",
    "SQFEET_TO_SQMETERS = 0.092903\n",
    "CFS_TO_CMS = 0.028316847\n",
    "SQMI_TO_SQKM = 2.589988110336\n",
    "FPS_TO_MPS = 0.3048000"
   ]
  },
  {
   "cell_type": "code",
   "execution_count": 9,
   "metadata": {},
   "outputs": [],
   "source": [
    "# USGS HYDRoacoustic dataset in support of the Surface Water Oceanographic Topography satellite mission (HYDRoSWOT)\n",
    "# https://www.sciencebase.gov/catalog/item/57435ae5e4b07e28b660af55\n",
    "swot_adcp = gpd.read_file('../data/SWOT_ADCP_Dataset_4326.gpkg')"
   ]
  },
  {
   "cell_type": "code",
   "execution_count": 10,
   "metadata": {},
   "outputs": [
    {
     "data": {
      "text/plain": [
       "Index(['host', 'agency_cd', 'site_no', 'station_nm', 'dec_lat_va',\n",
       "       'dec_long_va', 'coord_datum_cd', 'drain_area_va',\n",
       "       'contrib_drain_area_va', 'alt_va', 'alt_datum_cd', 'site_tp_cd',\n",
       "       'ad_site_cd', 'site_visit_start_dt', 'site_visit_start_dt_sg',\n",
       "       'data_aging_cd', 'q_meas_no', 'q_meas_dt', 'q_meas_td', 'q_va',\n",
       "       'stage_va', 'stage_diff_va', 'stage_diff_du', 'mean_idx_vel_va',\n",
       "       'std_sec_area_va', 'std_sec_vel_va', 'q_adj_va', 'base_flw_cd',\n",
       "       'q_meas_qual_cd', 'q_meas_used_fg', 'q_meas_chan_nu', 'stream_wdth_va',\n",
       "       'xsec_area_va', 'mean_vel_va', 'max_vel_va', 'q_coef_var_va',\n",
       "       'flw_meas_fc', 'mean_depth_va', 'max_depth_va', 'adcp_freq_cd',\n",
       "       'q_meas_type_cd', 'q_meth_cd', 'vel_meth_cd', 'meas_q_va',\n",
       "       'chan_stability_cd', 'chan_mat_cd', 'vel_dstrb_cd', 'vert_vel_dstrb_cd',\n",
       "       'q1_Percent_va', 'q1_Outside5Percent', 'q2_xsec_area_X_mean_vel_va',\n",
       "       'q2_Percent_q_va', 'q2_q_va_OutsideBounds', 'q2_Percent_meas_q_va',\n",
       "       'q2_meas_q_va_OutsideBounds', 'q3_CalcQ', 'q3_PercentCalcQ_q_va',\n",
       "       'q3_q_va_OutsideBounds', 'q3_PercentCalcQ_meas_q_va',\n",
       "       'q3_meas_q_va_OutsideBounds', 'q4_xsec_area_D_stream_width',\n",
       "       'q4_Percent_xsec_area_D_stream_width', 'q4_OutsideBounds',\n",
       "       'q5_Mean_GT_Max', 'q6_mean_vel_GT_max_vel', 'q6_JRatio',\n",
       "       'q6_JRatioGTo582', 'q6_JRatioLTo836', 'q7_max_vel_D_mean_vel',\n",
       "       'q7_max_vel_D_mean_vel_LT2', 'q8_stream_width_D_mean_depth', 'q8_GT2',\n",
       "       'q8_LT200', 'q9_stream_width_GT100', 'q10_mean_vel_GTo5', 'geometry'],\n",
       "      dtype='object')"
      ]
     },
     "execution_count": 10,
     "metadata": {},
     "output_type": "execute_result"
    }
   ],
   "source": [
    "swot_adcp.columns"
   ]
  },
  {
   "cell_type": "code",
   "execution_count": 12,
   "metadata": {},
   "outputs": [],
   "source": [
    "from functools import partial\n",
    "\n",
    "def scalar_mutate(df, tranformation_map):\n",
    "    def scale(col, val, x):\n",
    "        return x[col] * val\n",
    "    \n",
    "    cols_to_subset = list(tranformation_map.keys())\n",
    "    \n",
    "    df_subset = df[cols_to_subset]\n",
    "    \n",
    "    scalar_tranformation_map = {k: partial(scale, k, v) for (k,v) in tranformation_map.items() if v}\n",
    "    \n",
    "    ## for some reason this does not work\n",
    "    # scalar_tranformation_map = {k: lambda x: x[k] * v for (k,v) in tranformation_map.items()}\n",
    "    return df_subset.assign(**scalar_tranformation_map)\n",
    "\n",
    "cols_of_interest = {\n",
    "    \"site_no\": None,\n",
    "    \"drain_area_va\": SQMI_TO_SQKM, \n",
    "    \"contrib_drain_area_va\": SQMI_TO_SQKM,\n",
    "    \"alt_va\": FEET_TO_METERS,\n",
    "    \"stage_va\": FEET_TO_METERS,\n",
    "    \"stream_wdth_va\": FEET_TO_METERS,\n",
    "    \"xsec_area_va\": SQFEET_TO_SQMETERS,\n",
    "    \"mean_depth_va\": FEET_TO_METERS,\n",
    "    \"max_depth_va\": FEET_TO_METERS\n",
    "}"
   ]
  },
  {
   "cell_type": "code",
   "execution_count": 13,
   "metadata": {},
   "outputs": [],
   "source": [
    "df = scalar_mutate(swot_adcp, cols_of_interest)"
   ]
  },
  {
   "cell_type": "code",
   "execution_count": 23,
   "metadata": {},
   "outputs": [
    {
     "data": {
      "text/plain": [
       "<AxesSubplot:xlabel='stream_wdth_va', ylabel='Count'>"
      ]
     },
     "execution_count": 23,
     "metadata": {},
     "output_type": "execute_result"
    },
    {
     "data": {
      "image/png": "[encoded data removed]",
      "text/plain": [
       "<Figure size 1440x720 with 2 Axes>"
      ]
     },
     "metadata": {
      "needs_background": "light"
     },
     "output_type": "display_data"
    }
   ],
   "source": [
    "f, axes = plt.subplots(1,2, figsize=(20,10))\n",
    "\n",
    "df.boxplot(column=\"stream_wdth_va\", ax=axes.flat[0])\n",
    "sns.histplot(data=df, x=\"stream_wdth_va\", ax=axes.flat[1])"
   ]
  },
  {
   "cell_type": "code",
   "execution_count": 16,
   "metadata": {},
   "outputs": [],
   "source": [
    "def trapeziod_b(area, height, B):\n",
    "    return 2 * (area / height) - B"
   ]
  },
  {
   "cell_type": "code",
   "execution_count": 59,
   "metadata": {},
   "outputs": [
    {
     "data": {
      "text/plain": [
       "1.0000769851441293"
      ]
     },
     "execution_count": 59,
     "metadata": {},
     "output_type": "execute_result"
    }
   ],
   "source": [
    "(df['max_depth_va'] + df['mean_depth_va'])/2"
   ]
  },
  {
   "cell_type": "code",
   "execution_count": 60,
   "metadata": {},
   "outputs": [],
   "source": [
    "df = df.assign(b=trapeziod_b(df['xsec_area_va'], df['max_depth_va'], df['stream_wdth_va']))\n",
    "df_mean_depth = df.assign(b=trapeziod_b(df['xsec_area_va'], df['mean_depth_va'], df['stream_wdth_va']))\n",
    "\n",
    "# channel height is very sensitive when calculating b\n",
    "df_mean_max_and_mean = df.assign(b=trapeziod_b(df['xsec_area_va'],\n",
    "                                               ((df['max_depth_va'] + df['mean_depth_va']) / 2),\n",
    "                                               df['stream_wdth_va']))"
   ]
  },
  {
   "cell_type": "code",
   "execution_count": 61,
   "metadata": {},
   "outputs": [],
   "source": [
    "df = df.assign(b_percent_of_B=df['b']/df['stream_wdth_va'])\n",
    "df_mean_depth = df_mean_depth.assign(b_percent_of_B=df_mean_depth['b']/df_mean_depth['stream_wdth_va'])\n",
    "\n",
    "\n",
    "df_mean_max_and_mean = df_mean_max_and_mean.assign(b_percent_of_B=df_mean_max_and_mean['b']/df_mean_max_and_mean['stream_wdth_va'])"
   ]
  },
  {
   "cell_type": "code",
   "execution_count": 62,
   "metadata": {},
   "outputs": [
    {
     "name": "stdout",
     "output_type": "stream",
     "text": [
      "40.704020635881136\n",
      "101.3328063502345\n",
      "65.68649910378619\n"
     ]
    }
   ],
   "source": [
    "print(df.loc[0, 'b'])\n",
    "print(df_mean_depth.loc[0, 'b'])\n",
    "print(df_mean_max_and_mean.loc[0, 'b'])"
   ]
  },
  {
   "cell_type": "code",
   "execution_count": 64,
   "metadata": {},
   "outputs": [
    {
     "name": "stdout",
     "output_type": "stream",
     "text": [
      "mean percent b of B:\n",
      "df: 33.33259660814816\n",
      "df_mean_depth: 93.23829896311939\n",
      "df_mean_max_and_mean: 56.2429644032433\n"
     ]
    }
   ],
   "source": [
    "print(\"mean percent b of B:\")\n",
    "print(f\"df: {(df['b_percent_of_B'].replace([np.inf, -np.inf], np.nan) * 100).mean()}\")\n",
    "print(f\"df_mean_depth: {(df_mean_depth['b_percent_of_B'].replace([np.inf, -np.inf], np.nan) * 100).mean()}\")\n",
    "print(f\"df_mean_max_and_mean: {(df_mean_max_and_mean['b_percent_of_B'].replace([np.inf, -np.inf], np.nan) * 100).mean()}\")"
   ]
  },
  {
   "cell_type": "code",
   "execution_count": null,
   "metadata": {},
   "outputs": [],
   "source": []
  }
 ],
 "metadata": {
  "kernelspec": {
   "display_name": "Python 3",
   "language": "python",
   "name": "python3"
  },
  "language_info": {
   "codemirror_mode": {
    "name": "ipython",
    "version": 3
   },
   "file_extension": ".py",
   "mimetype": "text/x-python",
   "name": "python",
   "nbconvert_exporter": "python",
   "pygments_lexer": "ipython3",
   "version": "3.8.5"
  }
 },
 "nbformat": 4,
 "nbformat_minor": 4
}
