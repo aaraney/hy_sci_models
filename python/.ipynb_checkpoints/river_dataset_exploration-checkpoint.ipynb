{
 "cells": [
  {
   "cell_type": "code",
   "execution_count": 1,
   "metadata": {},
   "outputs": [],
   "source": [
    "import pandas as pd\n",
    "import geopandas as gpd\n",
    "import numpy as np\n",
    "import seaborn as sns\n",
    "import matplotlib.pyplot as plt\n",
    "\n",
    "from pathlib import Path"
   ]
  },
  {
   "cell_type": "code",
   "execution_count": 2,
   "metadata": {},
   "outputs": [],
   "source": [
    "us = gpd.read_file(gpd.datasets.get_path('naturalearth_lowres'))\n",
    "us = us[us['name'] == \"United States of America\"]"
   ]
  },
  {
   "cell_type": "code",
   "execution_count": 11,
   "metadata": {},
   "outputs": [
    {
     "name": "stdout",
     "output_type": "stream",
     "text": [
      "/Volumes/backup_plus/thesis/data/rivers_ge30m.shp\n"
     ]
    }
   ],
   "source": [
    "rivers_file = str(Path(\".\").resolve().parent / \"data/rivers_ge30m.shp\")\n",
    "print(rivers_file)\n",
    "\n",
    "rivers_df = gpd.read_file(rivers_file)"
   ]
  },
  {
   "cell_type": "code",
   "execution_count": 24,
   "metadata": {},
   "outputs": [],
   "source": [
    "rivers_df.set_crs(epsg=4326, inplace=True)\n",
    "rivers_df_clipped = gpd.clip(rivers_df, us.envelope)"
   ]
  },
  {
   "cell_type": "code",
   "execution_count": 26,
   "metadata": {},
   "outputs": [],
   "source": [
    "rivers_df_clipped.to_pickle(\"rivers_ge30m_clipped_to_us_extent.p\")"
   ]
  },
  {
   "cell_type": "code",
   "execution_count": 36,
   "metadata": {},
   "outputs": [
    {
     "name": "stderr",
     "output_type": "stream",
     "text": [
      "/Users/austinraney/miniconda3/envs/temp/lib/python3.7/site-packages/ipykernel_launcher.py:1: UserWarning: Geometry is in a geographic CRS. Results from 'length' are likely incorrect. Use 'GeoSeries.to_crs()' to re-project geometries to a projected CRS before this operation.\n",
      "\n",
      "  \"\"\"Entry point for launching an IPython kernel.\n"
     ]
    },
    {
     "data": {
      "text/plain": [
       "<seaborn.axisgrid.FacetGrid at 0x169b99c50>"
      ]
     },
     "execution_count": 36,
     "metadata": {},
     "output_type": "execute_result"
    },
    {
     "data": {
      "image/png": "[encoded data removed]",
      "text/plain": [
       "<Figure size 360x360 with 1 Axes>"
      ]
     },
     "metadata": {
      "needs_background": "light"
     },
     "output_type": "display_data"
    }
   ],
   "source": [
    "sns.displot(rivers_df_clipped.geometry.length, kde=True)"
   ]
  },
  {
   "cell_type": "code",
   "execution_count": 47,
   "metadata": {},
   "outputs": [],
   "source": [
    "df = pd.read_pickle(\"../data/SWOT_ADCP_Dataset_removed_mean_depth_va_no_data.p\")"
   ]
  },
  {
   "cell_type": "code",
   "execution_count": 49,
   "metadata": {},
   "outputs": [
    {
     "name": "stdout",
     "output_type": "stream",
     "text": [
      "           COMID  order        area       Sin       Slp        Elev  \\\n",
      "516454  71000001    2.0  391.888602  1.688335  0.000427  270.800020   \n",
      "516455  71000002    2.0  701.729110  1.538670  0.000058  271.163919   \n",
      "516456  71000003    2.0  480.739143  1.316838  0.000770  279.471222   \n",
      "516457  71000004    2.0  388.921753  1.347168  0.000911  287.228577   \n",
      "516458  71000005    2.0  328.548936  1.336828  0.000670  291.024205   \n",
      "\n",
      "                   K     P        AI  LAI  ...        SLT  Urb       WTD  \\\n",
      "516454  8.000000e-15  0.01  0.785773  0.0  ...  29.939394  0.0  5.934278   \n",
      "516455  8.000000e-15  0.01  0.782485  0.0  ...  31.304762  0.0  7.041763   \n",
      "516456  3.020000e-11  0.00  0.752624  0.0  ...  28.715909  0.0  7.115862   \n",
      "516457  3.020000e-11  0.00  0.741993  0.0  ...  29.130435  0.0  7.236753   \n",
      "516458  3.020000e-11  0.00  0.740822  0.0  ...  30.285714  0.0  7.499449   \n",
      "\n",
      "              HW  DOR     QMEAN         Q2   width_m  width_DHG  \\\n",
      "516454  0.000045  0.0  2.239478  43.362257  79.85220  47.412018   \n",
      "516455  0.001517  0.0  4.861261  58.318518  98.02077  54.983925   \n",
      "516456  0.000427  0.0  3.691704  42.563494  92.93169  46.973306   \n",
      "516457  0.000010  0.0  3.225351  29.779442  93.51721  39.290791   \n",
      "516458  0.000019  0.0  2.911458  24.905332  95.33858  35.931774   \n",
      "\n",
      "                                                 geometry  \n",
      "516454  LINESTRING (-98.06167 60.00000, -98.06250 59.9...  \n",
      "516455  LINESTRING (-98.06167 60.00000, -98.06083 60.0...  \n",
      "516456  LINESTRING (-98.17250 60.13000, -98.17333 60.1...  \n",
      "516457  LINESTRING (-98.33500 60.07000, -98.33583 60.0...  \n",
      "516458  LINESTRING (-98.39917 60.09667, -98.40000 60.0...  \n",
      "\n",
      "[5 rows x 22 columns]\n",
      "      host agency_cd   site_no              station_nm  dec_lat_va  \\\n",
      "5   NWISAK      USGS  15875000  COLVILLE R AT UMIAT AK    69.36017   \n",
      "6   NWISAK      USGS  15875000  COLVILLE R AT UMIAT AK    69.36017   \n",
      "7   NWISAK      USGS  15875000  COLVILLE R AT UMIAT AK    69.36017   \n",
      "8   NWISAK      USGS  15875000  COLVILLE R AT UMIAT AK    69.36017   \n",
      "10  NWISAK      USGS  15875000  COLVILLE R AT UMIAT AK    69.36017   \n",
      "\n",
      "    dec_long_va coord_datum_cd  drain_area_va  contrib_drain_area_va  alt_va  \\\n",
      "5   -152.124623          NAD83        13830.0                    NaN   275.0   \n",
      "6   -152.124623          NAD83        13830.0                    NaN   275.0   \n",
      "7   -152.124623          NAD83        13830.0                    NaN   275.0   \n",
      "8   -152.124623          NAD83        13830.0                    NaN   275.0   \n",
      "10  -152.124623          NAD83        13830.0                    NaN   275.0   \n",
      "\n",
      "    ... q6_JRatio q6_JRatioGTo582 q6_JRatioLTo836 q7_max_vel_D_mean_vel  \\\n",
      "5   ...     0.347             0.0            -1.0                  2.88   \n",
      "6   ...     0.671            -1.0            -1.0                  1.49   \n",
      "7   ...     0.446             0.0            -1.0                  2.24   \n",
      "8   ...     0.419             0.0            -1.0                  2.38   \n",
      "10  ...     0.218             0.0            -1.0                  4.60   \n",
      "\n",
      "   q7_max_vel_D_mean_vel_LT2 q8_stream_width_D_mean_depth q8_GT2 q8_LT200  \\\n",
      "5                        0.0                        45.49   -1.0     -1.0   \n",
      "6                       -1.0                       140.05   -1.0     -1.0   \n",
      "7                        0.0                        96.45   -1.0     -1.0   \n",
      "8                        0.0                        33.87   -1.0     -1.0   \n",
      "10                       0.0                        31.88   -1.0     -1.0   \n",
      "\n",
      "   q9_stream_width_GT100  q10_mean_vel_GTo5  \n",
      "5                   -1.0               -1.0  \n",
      "6                   -1.0               -1.0  \n",
      "7                   -1.0               -1.0  \n",
      "8                   -1.0               -1.0  \n",
      "10                  -1.0               -1.0  \n",
      "\n",
      "[5 rows x 75 columns]\n"
     ]
    }
   ],
   "source": [
    "print(rivers_df_clipped.head())\n",
    "print(df.head())"
   ]
  },
  {
   "cell_type": "code",
   "execution_count": null,
   "metadata": {},
   "outputs": [],
   "source": []
  }
 ],
 "metadata": {
  "kernelspec": {
   "display_name": "Python 3",
   "language": "python",
   "name": "python3"
  },
  "language_info": {
   "codemirror_mode": {
    "name": "ipython",
    "version": 3
   },
   "file_extension": ".py",
   "mimetype": "text/x-python",
   "name": "python",
   "nbconvert_exporter": "python",
   "pygments_lexer": "ipython3",
   "version": "3.7.7"
  }
 },
 "nbformat": 4,
 "nbformat_minor": 4
}
